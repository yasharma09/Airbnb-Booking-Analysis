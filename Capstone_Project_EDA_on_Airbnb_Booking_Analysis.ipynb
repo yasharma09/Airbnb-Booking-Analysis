{
  "nbformat": 4,
  "nbformat_minor": 0,
  "metadata": {
    "colab": {
      "private_outputs": true,
      "provenance": [],
      "collapsed_sections": [
        "vncDsAP0Gaoa",
        "FJNUwmbgGyua",
        "w6K7xa23Elo4",
        "yQaldy8SH6Dl",
        "PH-0ReGfmX4f",
        "mDgbUHAGgjLW",
        "O_i_v8NEhb9l",
        "HhfV-JJviCcP",
        "Y3lxredqlCYt",
        "3RnN4peoiCZX",
        "x71ZqKXriCWQ",
        "7hBIi_osiCS2",
        "JlHwYmJAmNHm",
        "35m5QtbWiB9F",
        "PoPl-ycgm1ru",
        "H0kj-8xxnORC",
        "nA9Y7ga8ng1Z",
        "PBTbrJXOngz2",
        "u3PMJOP6ngxN",
        "dauF4eBmngu3",
        "bKJF3rekwFvQ",
        "MSa1f5Uengrz",
        "GF8Ens_Soomf",
        "0wOQAZs5pc--",
        "K5QZ13OEpz2H",
        "lQ7QKXXCp7Bj",
        "448CDAPjqfQr",
        "KSlN3yHqYklG",
        "t6dVpIINYklI",
        "ijmpgYnKYklI",
        "-JiQyfWJYklI",
        "EM7whBJCYoAo",
        "fge-S5ZAYoAp",
        "85gYPyotYoAp",
        "RoGjAbkUYoAp",
        "4Of9eVA-YrdM",
        "iky9q4vBYrdO",
        "F6T5p64dYrdO",
        "y-Ehk30pYrdP",
        "bamQiAODYuh1",
        "QHF8YVU7Yuh3",
        "GwzvFGzlYuh3",
        "qYpmQ266Yuh3",
        "OH-pJp9IphqM",
        "bbFf2-_FphqN",
        "_ouA3fa0phqN",
        "Seke61FWphqN",
        "PIIx-8_IphqN",
        "t27r6nlMphqO",
        "r2jJGEOYphqO",
        "b0JNsNcRphqO",
        "BZR9WyysphqO",
        "jj7wYXLtphqO",
        "eZrbJ2SmphqO",
        "rFu4xreNphqO",
        "YJ55k-q6phqO",
        "gCFgpxoyphqP",
        "OVtJsKN_phqQ",
        "lssrdh5qphqQ",
        "U2RJ9gkRphqQ",
        "1M8mcRywphqQ",
        "tgIPom80phqQ",
        "JMzcOPDDphqR",
        "x-EpHcCOp1ci",
        "X_VqEhTip1ck",
        "8zGJKyg5p1ck",
        "PVzmfK_Ep1ck",
        "n3dbpmDWp1ck",
        "ylSl6qgtp1ck",
        "ZWILFDl5p1ck",
        "M7G43BXep1ck",
        "Ag9LCva-p1cl",
        "E6MkPsBcp1cl",
        "2cELzS2fp1cl",
        "3MPXvC8up1cl",
        "NC_X3p0fY2L0",
        "UV0SzAkaZNRQ",
        "YPEH6qLeZNRQ",
        "q29F0dvdveiT",
        "EXh0U9oCveiU",
        "22aHeOlLveiV",
        "JcMwzZxoAimU",
        "8G2x9gOozGDZ",
        "gCX9965dhzqZ",
        "gIfDvo9L0UH2"
      ],
      "include_colab_link": true
    },
    "kernelspec": {
      "name": "python3",
      "display_name": "Python 3"
    },
    "language_info": {
      "name": "python"
    }
  },
  "cells": [
    {
      "cell_type": "markdown",
      "metadata": {
        "id": "view-in-github",
        "colab_type": "text"
      },
      "source": [
        "<a href=\"https://colab.research.google.com/github/yasharma09/Airbnb-Booking-Analysis/blob/main/Capstone_Project_EDA_on_Airbnb_Booking_Analysis.ipynb\" target=\"_parent\"><img src=\"https://colab.research.google.com/assets/colab-badge.svg\" alt=\"Open In Colab\"/></a>"
      ]
    },
    {
      "cell_type": "markdown",
      "source": [
        "# **Project Name**    - Airbnb Bookings Analysis\n",
        "\n"
      ],
      "metadata": {
        "id": "vncDsAP0Gaoa"
      }
    },
    {
      "cell_type": "markdown",
      "source": [
        "##### **Project Type**    - EDA\n",
        "##### **Contribution**    - Individual(Yash Sharma)"
      ],
      "metadata": {
        "id": "beRrZCGUAJYm"
      }
    },
    {
      "cell_type": "markdown",
      "source": [
        "# **Project Summary -**"
      ],
      "metadata": {
        "id": "FJNUwmbgGyua"
      }
    },
    {
      "cell_type": "markdown",
      "source": [
        "## <b> Since 2008, guests and hosts have used Airbnb to expand on traveling possibilities and present a more unique, personalized way of experiencing the world. Today, Airbnb became one of a kind service that is used and recognized by the whole world. Data analysis on millions of listings provided through Airbnb is a crucial factor for the company. These millions of listings generate a lot of data - data that can be analyzed and used for security, business decisions, understanding of customers' and providers' (hosts) behavior and performance on the platform, guiding marketing initiatives, implementation of innovative additional services and much more. </b>\n",
        "\n",
        "## <b>This dataset has around 49,000 observations in it with 16 columns and it is a mix between categorical and numeric values. </b>\n"
      ],
      "metadata": {
        "id": "F6v_1wHtG2nS"
      }
    },
    {
      "cell_type": "markdown",
      "source": [
        "# **GitHub Link -**"
      ],
      "metadata": {
        "id": "w6K7xa23Elo4"
      }
    },
    {
      "cell_type": "markdown",
      "source": [
        "https://github.com/yasharma09/Airbnb-Booking-Analysis"
      ],
      "metadata": {
        "id": "h1o69JH3Eqqn"
      }
    },
    {
      "cell_type": "markdown",
      "source": [
        "# **Problem Statement**\n"
      ],
      "metadata": {
        "id": "yQaldy8SH6Dl"
      }
    },
    {
      "cell_type": "markdown",
      "source": [
        "**Write Problem Statement Here.**\n",
        "* What is the overall distribution of room in our dataset\n",
        "* what are the Diffrent type of room distributed in neighbourhood group)\n",
        "* distribution across latitude and longitude with different room types.\n",
        "* who has the most listings and in which neighbourhood?\n",
        "* Top 10 neighbourhoods with maximum listings\n",
        "* Top Keywords used in the listing Property by users Host's)\n",
        "\n",
        "* What is the average preferred price by customers according to the location and room type?\n",
        "\n",
        "* Analyzing the number of reviews and room availability with respect to price\n",
        "\n",
        "* which neighbourhood has got maximum number of reviews. \n",
        "\n",
        "* Room Availability by neighbourhood_group\n",
        "\n",
        "* What is the average preferred price by customers according to the location?\n",
        "\n",
        "* Find total no. of nights spend per location\n"
      ],
      "metadata": {
        "id": "DpeJGUA3kjGy"
      }
    },
    {
      "cell_type": "markdown",
      "source": [
        "#### **Define Your Business Objective?**"
      ],
      "metadata": {
        "id": "PH-0ReGfmX4f"
      }
    },
    {
      "cell_type": "markdown",
      "source": [
        "#Our Business Objective is to see\n",
        "* What type of properties are being listed by the Host's\n",
        "* What is the targeted area among all the neighbourhood's\n",
        "* what is the price which fit's to customers in terms of room type and locations\n",
        "* As a consumer prespective we will also see Which are the areas where the trafiic is maximum and how we can use those area in term of business\n",
        "* We will also see the host's who's property is reviwed more, so that they can get extra benefites from Airbnb to helping and Growing business"
      ],
      "metadata": {
        "id": "PhDvGCAqmjP1"
      }
    },
    {
      "cell_type": "markdown",
      "source": [
        "# **General Guidelines** : -  "
      ],
      "metadata": {
        "id": "mDgbUHAGgjLW"
      }
    },
    {
      "cell_type": "markdown",
      "source": [
        "1.   Well-structured, formatted, and commented code is required. \n",
        "2.   Exception Handling, Production Grade Code & Deployment Ready Code will be a plus. Those students will be awarded some additional credits. \n",
        "     \n",
        "     The additional credits will have advantages over other students during Star Student selection.\n",
        "       \n",
        "             [ Note: - Deployment Ready Code is defined as, the whole .ipynb notebook should be executable in one go\n",
        "                       without a single error logged. ]\n",
        "\n",
        "3.   Each and every logic should have proper comments.\n",
        "4. You may add as many number of charts you want. Make Sure for each and every chart the following format should be answered.\n",
        "        \n",
        "\n",
        "```\n",
        "# Chart visualization code\n",
        "```\n",
        "            \n",
        "\n",
        "*   Why did you pick the specific chart?\n",
        "*   What is/are the insight(s) found from the chart?\n",
        "* Will the gained insights help creating a positive business impact? \n",
        "Are there any insights that lead to negative growth? Justify with specific reason.\n",
        "\n",
        "5. You have to create at least 20 logical & meaningful charts having important insights.\n",
        "\n",
        "\n",
        "[ Hints : - Do the Vizualization in  a structured way while following \"UBM\" Rule. \n",
        "\n",
        "U - Univariate Analysis,\n",
        "\n",
        "B - Bivariate Analysis (Numerical - Categorical, Numerical - Numerical, Categorical - Categorical)\n",
        "\n",
        "M - Multivariate Analysis\n",
        " ]\n",
        "\n",
        "\n",
        "\n"
      ],
      "metadata": {
        "id": "ZrxVaUj-hHfC"
      }
    },
    {
      "cell_type": "markdown",
      "source": [
        "# ***Let's Begin !***"
      ],
      "metadata": {
        "id": "O_i_v8NEhb9l"
      }
    },
    {
      "cell_type": "markdown",
      "source": [
        "## ***1. Know Your Data***"
      ],
      "metadata": {
        "id": "HhfV-JJviCcP"
      }
    },
    {
      "cell_type": "markdown",
      "source": [
        "### Import Libraries"
      ],
      "metadata": {
        "id": "Y3lxredqlCYt"
      }
    },
    {
      "cell_type": "code",
      "source": [
        "# Import Libraries\n",
        "import numpy as np\n",
        "import pandas as pd\n",
        "\n",
        "from datetime import datetime\n",
        "\n",
        "import matplotlib.pyplot as plt\n",
        "%matplotlib inline\n",
        "\n",
        "import seaborn as sns\n",
        "\n",
        "from wordcloud import WordCloud, ImageColorGenerator"
      ],
      "metadata": {
        "id": "M8Vqi-pPk-HR"
      },
      "execution_count": null,
      "outputs": []
    },
    {
      "cell_type": "markdown",
      "source": [
        "### Dataset Loading"
      ],
      "metadata": {
        "id": "3RnN4peoiCZX"
      }
    },
    {
      "cell_type": "code",
      "source": [
        "# Load Dataset\n",
        "from google.colab import drive\n",
        "drive.mount('/content/drive')"
      ],
      "metadata": {
        "id": "4CkvbW_SlZ_R"
      },
      "execution_count": null,
      "outputs": []
    },
    {
      "cell_type": "code",
      "source": [
        "filepath= '/content/drive/MyDrive/Airbnb NYC 2019/Airbnb NYC 2019.csv'\n",
        "airbnb_df=pd.read_csv(filepath)"
      ],
      "metadata": {
        "id": "Z2ZVLnIEgCPq"
      },
      "execution_count": null,
      "outputs": []
    },
    {
      "cell_type": "markdown",
      "source": [
        "### Dataset First View"
      ],
      "metadata": {
        "id": "x71ZqKXriCWQ"
      }
    },
    {
      "cell_type": "code",
      "source": [
        "# Dataset First Look\n",
        "airbnb_df.head()"
      ],
      "metadata": {
        "id": "LWNFOSvLl09H"
      },
      "execution_count": null,
      "outputs": []
    },
    {
      "cell_type": "markdown",
      "source": [
        "### Dataset Rows & Columns count"
      ],
      "metadata": {
        "id": "7hBIi_osiCS2"
      }
    },
    {
      "cell_type": "code",
      "source": [
        "# Dataset Rows & Columns count\n",
        "#we wil use .shape to get the count of number of rows and columns in our data frame\n",
        "print(f\"In Our data set we have total {airbnb_df.shape[0]} Rows\")\n",
        "print(f\"In Our data set we have total {airbnb_df.shape[1]} Columns\")"
      ],
      "metadata": {
        "id": "Kllu7SJgmLij"
      },
      "execution_count": null,
      "outputs": []
    },
    {
      "cell_type": "markdown",
      "source": [
        "clearly we can see we have 48895 rows and 16 columns"
      ],
      "metadata": {
        "id": "COb8PHhwguFh"
      }
    },
    {
      "cell_type": "markdown",
      "source": [
        "### Dataset Information"
      ],
      "metadata": {
        "id": "JlHwYmJAmNHm"
      }
    },
    {
      "cell_type": "code",
      "source": [
        "# Dataset Info\n",
        "airbnb_df.info()"
      ],
      "metadata": {
        "id": "e9hRXRi6meOf"
      },
      "execution_count": null,
      "outputs": []
    },
    {
      "cell_type": "markdown",
      "source": [
        "#### Duplicate Values"
      ],
      "metadata": {
        "id": "35m5QtbWiB9F"
      }
    },
    {
      "cell_type": "code",
      "source": [
        "# Dataset Duplicate Value Count\n",
        "airbnb_df.duplicated().sum()"
      ],
      "metadata": {
        "id": "1sLdpKYkmox0"
      },
      "execution_count": null,
      "outputs": []
    },
    {
      "cell_type": "markdown",
      "source": [
        "We Don't have any Duplicate values in our data set AirBnb"
      ],
      "metadata": {
        "id": "dwSixgc0hCL1"
      }
    },
    {
      "cell_type": "markdown",
      "source": [
        "#### Missing Values/Null Values"
      ],
      "metadata": {
        "id": "PoPl-ycgm1ru"
      }
    },
    {
      "cell_type": "code",
      "source": [
        "# Missing Values/Null Values Count\n",
        "airbnb_df.isnull().sum()"
      ],
      "metadata": {
        "id": "GgHWkxvamxVg"
      },
      "execution_count": null,
      "outputs": []
    },
    {
      "cell_type": "markdown",
      "source": [
        "We can see that their are some null/missing values in our dataset.\n",
        "1. \"name\" column has 16 missing values\n",
        "2. \"host_name\" has 21 missing values\n",
        "3. \"last_review\" has 10052 missing values which is a big number\n",
        "4. \"reviews_per_month\" also has 10052 missing values which is same as last_review column.\n",
        "\n",
        "\n",
        "\n",
        "\n",
        "\n",
        "\n"
      ],
      "metadata": {
        "id": "d3nG1OP6hWac"
      }
    },
    {
      "cell_type": "code",
      "source": [
        "# Visualizing the missing values\n",
        "plt.figure(figsize=(10,5))\n",
        "plt.bar(airbnb_df.columns, airbnb_df.isna().sum(),)\n",
        "#plt.ylim(0,10000)\n",
        "plt.xticks(rotation=90)\n",
        "plt.title('Missing Values per Column')\n",
        "plt.show()"
      ],
      "metadata": {
        "id": "3q5wnI3om9sJ"
      },
      "execution_count": null,
      "outputs": []
    },
    {
      "cell_type": "markdown",
      "source": [
        "### What did you know about your dataset?"
      ],
      "metadata": {
        "id": "H0kj-8xxnORC"
      }
    },
    {
      "cell_type": "markdown",
      "source": [
        "1. Interestingly, we can observe that we have a good number of different data \n",
        "types with a mix of categorical and numerical data.\n",
        "2. In total, there are 16 columns and 48895 rows which comprises ample information on which we can perform our in-depth analysis.\n",
        "3. We can also see from the above, there are some missing NaN values that will require cleaning and handling.\n",
        "4. We have a list of 5 categorical unique 'Neighbourhood_group' which are 'Brooklyn', 'Manhattan', 'Queens', 'Staten Island', and 'Bronx'.\n",
        "5. There are 221 categorical unique 'Neighbourhood' data.\n",
        "6. We have prominently 3 different room types i.e 'Private room', 'Shared room' and Entire home/apt.\n",
        "Answer Here"
      ],
      "metadata": {
        "id": "gfoNAAC-nUe_"
      }
    },
    {
      "cell_type": "markdown",
      "source": [
        "## ***2. Understanding Your Variables***"
      ],
      "metadata": {
        "id": "nA9Y7ga8ng1Z"
      }
    },
    {
      "cell_type": "code",
      "source": [
        "# Dataset Columns\n",
        "airbnb_df.columns"
      ],
      "metadata": {
        "id": "j7xfkqrt5Ag5"
      },
      "execution_count": null,
      "outputs": []
    },
    {
      "cell_type": "code",
      "source": [
        "# Dataset Describe\n",
        "airbnb_df.describe()"
      ],
      "metadata": {
        "id": "DnOaZdaE5Q5t"
      },
      "execution_count": null,
      "outputs": []
    },
    {
      "cell_type": "markdown",
      "source": [
        "In price column we can see that their is some error as the minimum price is zero which  does't make sense. so we will check and try to remove this when we will perform some actions with respect to price column"
      ],
      "metadata": {
        "id": "h4Lo5IHWBvfe"
      }
    },
    {
      "cell_type": "markdown",
      "source": [
        "### Variables Description "
      ],
      "metadata": {
        "id": "PBTbrJXOngz2"
      }
    },
    {
      "cell_type": "markdown",
      "source": [
        "1. **id**: listing ID\n",
        "2. **name**: name of the listing\n",
        "3. **host_id**: host ID\n",
        "4. **host_name**: name of the host\n",
        "5. **neighbourhood_group**: location\n",
        "6. **neighbourhood**: area\n",
        "7. **latitude**: latitude coordinates\n",
        "8. **longitude**: longitude coordinates\n",
        "9. **room_type**: listing space type\n",
        "10. **price**: price in dollars\n",
        "11. **minimum_nights**: amount of nights minimum\n",
        "12. **number_of_reviews**: number of reviews\n",
        "13. **last_review**: latest review\n",
        "14. **reviews_per_month**: number of reviews per month\n",
        "15. **calculated_host_listings_count**: amount of listing per host\n",
        "16. **availability_365**: number of days when listing is available for booking"
      ],
      "metadata": {
        "id": "aJV4KIxSnxay"
      }
    },
    {
      "cell_type": "markdown",
      "source": [
        "### Check Unique Values for each variable."
      ],
      "metadata": {
        "id": "u3PMJOP6ngxN"
      }
    },
    {
      "cell_type": "code",
      "source": [
        "# Check Unique Values for each variable.\n",
        "print(f\"The number of unique values in our Dataset is\")\n",
        "print(\"-\"*35)\n",
        "for i in airbnb_df.columns:\n",
        "  print(f\"'{i}' : {airbnb_df[i].nunique()}\")"
      ],
      "metadata": {
        "id": "zms12Yq5n-jE"
      },
      "execution_count": null,
      "outputs": []
    },
    {
      "cell_type": "markdown",
      "source": [
        "## 3. ***Data Wrangling***"
      ],
      "metadata": {
        "id": "dauF4eBmngu3"
      }
    },
    {
      "cell_type": "markdown",
      "source": [
        "### Data Wrangling Code"
      ],
      "metadata": {
        "id": "bKJF3rekwFvQ"
      }
    },
    {
      "cell_type": "markdown",
      "source": [
        "As we have seen above that we have some null and missing values in our data set, So we have to Clean our data set for predictive analysis\n",
        "1. Remove NaN values from the data\n",
        "2. Replace all the missing values with 0\n",
        "3. Dropping columns that are not required and are insignificant for our analysis"
      ],
      "metadata": {
        "id": "hUv3TJGlnQ3n"
      }
    },
    {
      "cell_type": "code",
      "source": [
        "# Write your code to make your dataset analysis ready.\n",
        "#we are creating a copy of our data file on which we will perform analysis, so the changes we are making will not affact the orignal DataFrame  \n",
        "df=airbnb_df\n",
        "df.isnull().sum()"
      ],
      "metadata": {
        "id": "5yAqv_olpTwC"
      },
      "execution_count": null,
      "outputs": []
    },
    {
      "cell_type": "markdown",
      "source": [
        "We will fill the missing values in column 'name' and 'host_name."
      ],
      "metadata": {
        "id": "2ImsxWuZoEeK"
      }
    },
    {
      "cell_type": "code",
      "source": [
        "# Filling missing values in 'name' and 'host_name' column\n",
        "df['name'].fillna('Absent', inplace = True)\n",
        "df['host_name'].fillna('Absent', inplace =  True)"
      ],
      "metadata": {
        "id": "1DfnIvhYoDqI"
      },
      "execution_count": null,
      "outputs": []
    },
    {
      "cell_type": "code",
      "source": [
        "df.isnull().sum()"
      ],
      "metadata": {
        "id": "T1d1NNNAonfO"
      },
      "execution_count": null,
      "outputs": []
    },
    {
      "cell_type": "markdown",
      "source": [
        "Hurray we have sucessfully filled our missing values in column 'name' and 'host_name' which was 16 and 21 earlier.\n",
        "................................................................................................................................................................................................................................................. "
      ],
      "metadata": {
        "id": "TFPLoX6Wo5Wk"
      }
    },
    {
      "cell_type": "markdown",
      "source": [
        "Now we will drop the unncessary columns"
      ],
      "metadata": {
        "id": "NIiD3mr-pa4z"
      }
    },
    {
      "cell_type": "code",
      "source": [
        "# Dropping the unncessary columns.\n",
        "df=df.drop(['last_review','reviews_per_month'], axis=1)"
      ],
      "metadata": {
        "id": "wk-9a2fpoLcV"
      },
      "execution_count": null,
      "outputs": []
    },
    {
      "cell_type": "code",
      "source": [
        "df.head()"
      ],
      "metadata": {
        "id": "zXHg8p4_Ssq0"
      },
      "execution_count": null,
      "outputs": []
    },
    {
      "cell_type": "code",
      "source": [
        "# Again checking for null values in the dataset\n",
        "print(f'The number of missing values after cleaning the data are:')\n",
        "df.isnull().sum()"
      ],
      "metadata": {
        "id": "d2vzF6gkS00c"
      },
      "execution_count": null,
      "outputs": []
    },
    {
      "cell_type": "markdown",
      "source": [
        "**Zero missing values in our Data Set  which means our data set is ready for analysis**"
      ],
      "metadata": {
        "id": "6wOp2taaTYWj"
      }
    },
    {
      "cell_type": "markdown",
      "source": [
        "### What all manipulations have you done and insights you found?"
      ],
      "metadata": {
        "id": "MSa1f5Uengrz"
      }
    },
    {
      "cell_type": "markdown",
      "source": [
        "We Found that there are some null values present in our data set which may effect our output so we replace some missing values and droped the unnecessery column from the data set.\n",
        "\n",
        "\n",
        "* 'name' and 'host_name' are sting datatype so we can't fill those values by median or mean value, so we have entered 'absent' in all the missing values in 'name' and 'host_name'columns \n",
        "* Two columns are not of our use so have simply droped them\n",
        "\n"
      ],
      "metadata": {
        "id": "LbyXE7I1olp8"
      }
    },
    {
      "cell_type": "markdown",
      "source": [
        "## ***4. Data Vizualization, Storytelling & Experimenting with charts : Understand the relationships between variables***"
      ],
      "metadata": {
        "id": "GF8Ens_Soomf"
      }
    },
    {
      "cell_type": "markdown",
      "source": [
        "###Univariate Analysis"
      ],
      "metadata": {
        "id": "vmUQfR0eZkb1"
      }
    },
    {
      "cell_type": "markdown",
      "source": [
        "#### Chart - 1 (What is the overall distribution of room in our dataset)"
      ],
      "metadata": {
        "id": "EM7whBJCYoAo"
      }
    },
    {
      "cell_type": "code",
      "source": [
        "# Chart - 1 visualization code\n",
        "p = plt.pie(df.room_type.value_counts(), labels= df.room_type.value_counts().index, autopct='%1.1f%%')\n",
        "plt.title(\"Listings of each room type\")\n",
        "plt.show()"
      ],
      "metadata": {
        "id": "XG562Oku2Lf7"
      },
      "execution_count": null,
      "outputs": []
    },
    {
      "cell_type": "markdown",
      "source": [
        "##### 1. Why did you pick the specific chart?"
      ],
      "metadata": {
        "id": "iky9q4vBYrdO"
      }
    },
    {
      "cell_type": "markdown",
      "source": [
        "Pie chart is showing the total/overall distribution of types of room listed in our Airbnb data set"
      ],
      "metadata": {
        "id": "aJRCwT6DYrdO"
      }
    },
    {
      "cell_type": "markdown",
      "source": [
        "##### 2. What is/are the insight(s) found from the chart?"
      ],
      "metadata": {
        "id": "F6T5p64dYrdO"
      }
    },
    {
      "cell_type": "markdown",
      "source": [
        "There is a very clear percentage division of the three different room types across the region, with 'Entire home/apt' accounting for 52% of listings, and shared rooms representing just 2.4%."
      ],
      "metadata": {
        "id": "Xx8WAJvtYrdO"
      }
    },
    {
      "cell_type": "markdown",
      "source": [
        "##### 3. Will the gained insights help creating a positive business impact? \n",
        "Are there any insights that lead to negative growth? Justify with specific reason."
      ],
      "metadata": {
        "id": "y-Ehk30pYrdP"
      }
    },
    {
      "cell_type": "markdown",
      "source": [
        "Yes, \n",
        "We can clearly see that there are entire and private room listed by users which means that customers are preferring private and entire rooms insted of shared room"
      ],
      "metadata": {
        "id": "jLNxxz7MYrdP"
      }
    },
    {
      "cell_type": "markdown",
      "source": [
        "#### Chart - 2 (what are the Diffrent type of room distributed in neighbourhood group)"
      ],
      "metadata": {
        "id": "4Of9eVA-YrdM"
      }
    },
    {
      "cell_type": "code",
      "source": [
        "room_type_var = df.groupby(['neighbourhood_group','room_type'])['room_type'].count().unstack()\n",
        "room_type_var"
      ],
      "metadata": {
        "id": "5rD3aYhgW7n0"
      },
      "execution_count": null,
      "outputs": []
    },
    {
      "cell_type": "code",
      "source": [
        "# Chart -2 visualization code\n",
        "r = sns.catplot(data = df, x='neighbourhood_group', hue='neighbourhood_group', col='room_type', palette='flare',kind=\"count\")\n",
        "r.set_xticklabels(rotation=90)\n",
        "sns.set(rc={'figure.figsize':(10,6)})\n",
        "sns.set(style=\"white\")"
      ],
      "metadata": {
        "id": "irlUoxc8YrdO"
      },
      "execution_count": null,
      "outputs": []
    },
    {
      "cell_type": "markdown",
      "source": [
        "##### 1. Why did you pick the specific chart?"
      ],
      "metadata": {
        "id": "fge-S5ZAYoAp"
      }
    },
    {
      "cell_type": "markdown",
      "source": [
        "It shows the relationship between a numerical count of number of rooms listed in diffrent neighbourhood_group using one of several visual representations"
      ],
      "metadata": {
        "id": "5dBItgRVYoAp"
      }
    },
    {
      "cell_type": "markdown",
      "source": [
        "##### 2. What is/are the insight(s) found from the chart?"
      ],
      "metadata": {
        "id": "85gYPyotYoAp"
      }
    },
    {
      "cell_type": "markdown",
      "source": [
        "how rooms are distributed in to three type where\n",
        "\n",
        "1.   Manhattan has more then 10,000 rooms which are of Entire home type\n",
        "2.   Brooklyn has highest number of rooms which are Private rooms\n",
        "\n"
      ],
      "metadata": {
        "id": "4jstXR6OYoAp"
      }
    },
    {
      "cell_type": "markdown",
      "source": [
        "##### 3. Will the gained insights help creating a positive business impact? \n",
        "Are there any insights that lead to negative growth? Justify with specific reason."
      ],
      "metadata": {
        "id": "RoGjAbkUYoAp"
      }
    },
    {
      "cell_type": "markdown",
      "source": [
        "1. Users who lives in Manhattan are hosting there property should rent \"**entire rooms**\" in order to earn more profit\n",
        "2. for the customer who are looking for private rooms they can analyse that brooklyn has maximum private rooms so in order to get rooms accordingly one can get idea of how rooms are distributed"
      ],
      "metadata": {
        "id": "zfJ8IqMcYoAp"
      }
    },
    {
      "cell_type": "markdown",
      "source": [
        "#### Chart - 3 distribution across latitude and longitude with different room types."
      ],
      "metadata": {
        "id": "OH-pJp9IphqM"
      }
    },
    {
      "cell_type": "code",
      "source": [
        "# Chart - 3 visualization code\n",
        "lat = sns.scatterplot(x=df.longitude, y=df.latitude, hue=df.neighbourhood_group, palette=\"husl\")\n",
        "\n",
        "lat.set_title('Latitudinal and longitudinal distribution of listings across neighbours', weight='bold', fontsize = 16)\n",
        "lat.set_xlabel('Longitude')\n",
        "lat.set_ylabel('Latitude')\n",
        "lat.legend(loc='upper left', title='Neighbour')"
      ],
      "metadata": {
        "id": "kuRf4wtuphqN"
      },
      "execution_count": null,
      "outputs": []
    },
    {
      "cell_type": "code",
      "source": [
        "rm = sns.scatterplot(x=df.longitude, y=df.latitude, hue=df.room_type, palette=\"husl\")\n",
        "rm.set_title('Room type distribution across latitude and longitudes', weight='bold', fontsize = 16)\n",
        "rm.legend(loc='upper left', title='Room type')\n"
      ],
      "metadata": {
        "id": "VdrOKYxf97kT"
      },
      "execution_count": null,
      "outputs": []
    },
    {
      "cell_type": "markdown",
      "source": [
        "##### 1. Why did you pick the specific chart?"
      ],
      "metadata": {
        "id": "bbFf2-_FphqN"
      }
    },
    {
      "cell_type": "markdown",
      "source": [
        "We are plotting scatter plot to have the cluster of the location"
      ],
      "metadata": {
        "id": "loh7H2nzphqN"
      }
    },
    {
      "cell_type": "markdown",
      "source": [
        "##### 2. What is/are the insight(s) found from the chart?"
      ],
      "metadata": {
        "id": "_ouA3fa0phqN"
      }
    },
    {
      "cell_type": "markdown",
      "source": [
        "1. It appears there are a few scattered listings across Queens and Staten Island. In contrast, Brooklyn and Manhattan have a crowded listing situation in their respective regions. \n",
        "2. In terms of distribution of room types, we can see there is a good mix of different types available across the region. When compared with shared rooms, there is dominancy in private rooms and entire homes categories."
      ],
      "metadata": {
        "id": "VECbqPI7phqN"
      }
    },
    {
      "cell_type": "markdown",
      "source": [
        "##### 3. Will the gained insights help creating a positive business impact? \n",
        "Are there any insights that lead to negative growth? Justify with specific reason."
      ],
      "metadata": {
        "id": "Seke61FWphqN"
      }
    },
    {
      "cell_type": "markdown",
      "source": [
        "Answer Here"
      ],
      "metadata": {
        "id": "DW4_bGpfphqN"
      }
    },
    {
      "cell_type": "markdown",
      "source": [
        "#### Chart - 4 ( who has the most listings and in which neighbourhood)"
      ],
      "metadata": {
        "id": "YJ55k-q6phqO"
      }
    },
    {
      "cell_type": "code",
      "source": [
        "host_areas = df.groupby(['host_name','neighbourhood_group'])['calculated_host_listings_count'].max().reset_index()\n",
        "top_hosts = host_areas.sort_values(by = ['calculated_host_listings_count'], ascending = False).head(9).rename(columns = {'calculated_host_listings_count':'Numner Of property listed'})\n",
        "top_hosts"
      ],
      "metadata": {
        "id": "LChvODwz9HPa"
      },
      "execution_count": null,
      "outputs": []
    },
    {
      "cell_type": "code",
      "source": [
        "# Chart - 4 visualization code\n",
        "plt.rcParams['figure.figsize'] = (10,5)\n",
        "host_name = top_hosts['host_name']\n",
        "host_lisitng = top_hosts['Numner Of property listed']\n",
        "plt.bar(host_name,host_lisitng)\n",
        "plt.title('Hosts with most listings',{'fontsize':18})\n",
        "plt.xlabel('Host Names',{'fontsize':18})\n",
        "plt.ylabel('Number of host listings',{'fontsize':18})\n",
        "plt.show()"
      ],
      "metadata": {
        "id": "B2aS4O1ophqO"
      },
      "execution_count": null,
      "outputs": []
    },
    {
      "cell_type": "markdown",
      "source": [
        "##### 1. Why did you pick the specific chart?"
      ],
      "metadata": {
        "id": "gCFgpxoyphqP"
      }
    },
    {
      "cell_type": "markdown",
      "source": [
        "Bar chart is the simplest and easyiest chat to portray how values is ditributed, Here X-axies shows the name of host which has highest property listed, and Y-axis has the number of count \n"
      ],
      "metadata": {
        "id": "TVxDimi2phqP"
      }
    },
    {
      "cell_type": "markdown",
      "source": [
        "##### 2. What is/are the insight(s) found from the chart?"
      ],
      "metadata": {
        "id": "OVtJsKN_phqQ"
      }
    },
    {
      "cell_type": "markdown",
      "source": [
        "From the above result, we can conclude that the name of the host with the most listings is **Sonder(NYC)** who has **327 listings** in **Manhattan**"
      ],
      "metadata": {
        "id": "ngGi97qjphqQ"
      }
    },
    {
      "cell_type": "markdown",
      "source": [
        "#### Chart - 5 (Top 10 neighbourhoods with maximum listings)"
      ],
      "metadata": {
        "id": "PIIx-8_IphqN"
      }
    },
    {
      "cell_type": "code",
      "source": [
        "# Chart - 5 visualization code\n",
        "top_ten_neigh = df.groupby(['neighbourhood']).agg({'calculated_host_listings_count':['count']})\n",
        "top_ten_neigh.columns = ['total_prop']\n",
        "top_ten_neigh = top_ten_neigh.sort_values(by='total_prop', ascending=False).head(10)\n",
        "top_ten_neigh.reset_index()"
      ],
      "metadata": {
        "id": "lqAIGUfyphqO"
      },
      "execution_count": null,
      "outputs": []
    },
    {
      "cell_type": "code",
      "source": [
        "top_neighours = df.loc[df['neighbourhood'].isin(['Williamsburg','Bedford-Stuyvesant','Harlem','Bushwick','Upper West Side','Hell\\'s Kitchen','East Village','Upper East Side','Crown Heights','Midtown'])]\n",
        "s = sns.catplot(data = top_neighours, x='neighbourhood', hue='neighbourhood_group', col='room_type', palette='flare',  kind='count')\n",
        "sns.set(rc={'figure.figsize':(12,7)})\n",
        "sns.set(style=\"white\")\n",
        "s.set_xticklabels(rotation=90)"
      ],
      "metadata": {
        "id": "jNcLi-gE-yFd"
      },
      "execution_count": null,
      "outputs": []
    },
    {
      "cell_type": "markdown",
      "source": [
        "##### 1. Why did you pick the specific chart?"
      ],
      "metadata": {
        "id": "t27r6nlMphqO"
      }
    },
    {
      "cell_type": "markdown",
      "source": [
        "Since we have more than two hundred neighbours listed out, so we will be taking a glimpse of only the top ten neighbours who has more number of listings."
      ],
      "metadata": {
        "id": "iv6ro40sphqO"
      }
    },
    {
      "cell_type": "markdown",
      "source": [
        "##### 2. What is/are the insight(s) found from the chart?"
      ],
      "metadata": {
        "id": "r2jJGEOYphqO"
      }
    },
    {
      "cell_type": "markdown",
      "source": [
        "1. One thing to note is that we only have two boroughs listed among the top ten: Manhattan and Brooklyn. For Brooklyn borough, Williamsburg and Bedford-Stuyvesant are more popular. \n",
        "2. It is surprising to see that 'Shared rooms' barely make the top 10 neighbourhoods."
      ],
      "metadata": {
        "id": "Po6ZPi4hphqO"
      }
    },
    {
      "cell_type": "markdown",
      "source": [
        "##### 3. Will the gained insights help creating a positive business impact? \n",
        "Are there any insights that lead to negative growth? Justify with specific reason."
      ],
      "metadata": {
        "id": "b0JNsNcRphqO"
      }
    },
    {
      "cell_type": "markdown",
      "source": [
        "private rooms are listed more then entire rooms. this mean users are prefering private room compare to entire rooms,"
      ],
      "metadata": {
        "id": "xvSq8iUTphqO"
      }
    },
    {
      "cell_type": "markdown",
      "source": [
        "#### Chart - 6 Top Keywords used in the listing Property by users Host's"
      ],
      "metadata": {
        "id": "BZR9WyysphqO"
      }
    },
    {
      "cell_type": "markdown",
      "source": [
        "We will be using the Wordcloud library for Extracting name from column. Word clouds use frequency counts of the words as input and return a graphic display of the most frequently occurring words with their size proportional to their relative frequency. We can see a large number of naming patterns used by our hosts for their listings. Using the word cloud as a tool for analysis, we can uncover some interesting trends that may help us understand our hosts' behavior and mindset."
      ],
      "metadata": {
        "id": "Tv9eDN9NEPGH"
      }
    },
    {
      "cell_type": "code",
      "source": [
        "# Chart - 6 \n",
        "text = ' '.join(str(n).lower() for n in df.name)\n",
        "\n",
        "wordcloud = WordCloud(max_words=200, background_color = 'black').generate(text)\n",
        "#visualization code\n",
        "plt.figure(figsize=(18,6))\n",
        "plt.imshow(wordcloud, interpolation='bilinear')\n",
        "plt.axis('off')\n",
        "plt.show()"
      ],
      "metadata": {
        "id": "TdPTWpAVphqO"
      },
      "execution_count": null,
      "outputs": []
    },
    {
      "cell_type": "markdown",
      "source": [
        "##### 1. Why did you pick the specific chart?"
      ],
      "metadata": {
        "id": "jj7wYXLtphqO"
      }
    },
    {
      "cell_type": "markdown",
      "source": [
        "Word clouds use frequency counts of the words as input and return a graphic display of the most frequently occurring words with their size proportional to their relative frequency. "
      ],
      "metadata": {
        "id": "Ob8u6rCTphqO"
      }
    },
    {
      "cell_type": "markdown",
      "source": [
        "##### 2. What is/are the insight(s) found from the chart?"
      ],
      "metadata": {
        "id": "eZrbJ2SmphqO"
      }
    },
    {
      "cell_type": "markdown",
      "source": [
        "1. Based on the above resultant word cloud, it is evident that hosts are using simple and location-oriented keywords to differentiate their listings such location is the key indicator, since the words \"Manhattan\" and \"Williamsburg\" are prominently displayed. \n",
        "2. Furthermore, we can see some adjectives such as \"beautiful\", \"quiet\", \"cozy\", and \"gorgeous\" bedrooms/apartments, which indicates that visitor comfort is a top priority. \n",
        "3. Several mentions of \"private rooms\" indicate the popularity of this room type in the city."
      ],
      "metadata": {
        "id": "mZtgC_hjphqO"
      }
    },
    {
      "cell_type": "markdown",
      "source": [
        "##### 3. Will the gained insights help creating a positive business impact? \n",
        "Are there any insights that lead to negative growth? Justify with specific reason."
      ],
      "metadata": {
        "id": "rFu4xreNphqO"
      }
    },
    {
      "cell_type": "markdown",
      "source": [
        "Yes\n",
        "\n",
        "By this insight we can see that if the new host is plaining to list his property on rent so he can see what are the hot word's are most used word for searching property"
      ],
      "metadata": {
        "id": "ey_0qi68phqO"
      }
    },
    {
      "cell_type": "markdown",
      "source": [
        "#### Chart - 7 ( What is the average preferred price by customers according to the location and room type?)"
      ],
      "metadata": {
        "id": "0wOQAZs5pc--"
      }
    },
    {
      "cell_type": "markdown",
      "source": [
        "Since we will be using with the price column to perform calculations and we have seen above that their was something wrong into the data set so it is important to check it for outliers first."
      ],
      "metadata": {
        "id": "b6sjYop-Bmwz"
      }
    },
    {
      "cell_type": "code",
      "source": [
        "df.agg({'price': ['mean', 'median', 'min', 'max', 'count']})"
      ],
      "metadata": {
        "id": "uMG6mSmpBJd7"
      },
      "execution_count": null,
      "outputs": []
    },
    {
      "cell_type": "markdown",
      "source": [
        "The minimum value is set as zero, which does not make any sense since there are no free rooms on Airbnb - and the maximum value is set 10,000 - which just seems too high. Notice how the mean is considerably higher than the median. This is an indication that the data is skewed.\n",
        "\n",
        "Let's use a boxplot to get a better understanding of price distribution"
      ],
      "metadata": {
        "id": "dLE_0ynCC3q4"
      }
    },
    {
      "cell_type": "code",
      "source": [
        "#visualization code for checking outliers\n",
        "plt.figure(figsize=(10,5))\n",
        "ax = sns.boxplot(y='price', data=df).set_title('Price Distribution by neighbourhood_group')\n",
        "sns.set_theme(style='white')\n",
        "plt.xlabel('Borough')\n",
        "plt.ylabel('Price')\n",
        "plt.show()"
      ],
      "metadata": {
        "id": "4TvDDkZxC_Fu"
      },
      "execution_count": null,
      "outputs": []
    },
    {
      "cell_type": "markdown",
      "source": [
        "As expected there are outliers present in the data. In order to fix this, we will be using the quantile based flooring and capping.\n",
        "First, let's print the 10th and 90th percentile of the price column."
      ],
      "metadata": {
        "id": "_ESvJTDHDI4m"
      }
    },
    {
      "cell_type": "code",
      "source": [
        "# low quantile\n",
        "q_low = df['price'].quantile(0.10)\n",
        "q_low"
      ],
      "metadata": {
        "id": "j1FOD9gOE9XM"
      },
      "execution_count": null,
      "outputs": []
    },
    {
      "cell_type": "code",
      "source": [
        "#high quantile\n",
        "q_high = df['price'].quantile(0.9)\n",
        "q_high"
      ],
      "metadata": {
        "id": "ID4JnpXZE9Uk"
      },
      "execution_count": null,
      "outputs": []
    },
    {
      "cell_type": "markdown",
      "source": [
        "Looks like the 10th percentile is 49USD and the 90th percentile is $269. Since we are dealing with Airbnb listings, it is not uncommon for a few places to be much more expensive than others, especially luxurious ones.\n",
        "\n",
        "Given that we are going to perform calculations in our data and the mean can be skewed by outliers, let's go ahead and implement the above technique by removing the values that don't apply to the specified range – set between 49USD and $269."
      ],
      "metadata": {
        "id": "fdxsXb7eE-cj"
      }
    },
    {
      "cell_type": "code",
      "source": [
        "#removing the values below 10th percentile and above 90th percentile\n",
        "df = df.drop(df[df['price']<q_low].index)\n",
        "df = df.drop(df[df['price']>q_high].index)"
      ],
      "metadata": {
        "id": "Yaf-f3eaFwOJ"
      },
      "execution_count": null,
      "outputs": []
    },
    {
      "cell_type": "code",
      "source": [
        "#Lets create a new boxplot and check the result.\n",
        "plt.figure(figsize=(10,5))\n",
        "ax = sns.boxplot(y='price', data=df).set_title('Price Distribution')\n",
        "sns.set_theme(style='white')\n",
        "plt.ylabel('Price')\n",
        "plt.show()"
      ],
      "metadata": {
        "id": "wTN8EfyXFxMT"
      },
      "execution_count": null,
      "outputs": []
    },
    {
      "cell_type": "markdown",
      "source": [
        "**We have sucessfully removed the outliers from our data set and we are now ready analyse data with respect to 'Price'**"
      ],
      "metadata": {
        "id": "Yk_pwBJfGu8y"
      }
    },
    {
      "cell_type": "code",
      "source": [
        "# Chart - 7 \n",
        "#Now lets see the price distribution by neighbourhood gropus\n",
        "plt.figure(figsize=(10,6))\n",
        "ax = sns.violinplot(x=\"neighbourhood_group\", y=\"price\", data=df).set_title('Price Distribution by neighbourhood groups')\n",
        "plt.show()"
      ],
      "metadata": {
        "id": "MTTAs-HUFxJX"
      },
      "execution_count": null,
      "outputs": []
    },
    {
      "cell_type": "markdown",
      "source": [
        "**By looking at the violin plot, we can see that Manhattan has a higher price range and is the most expensive one. Brooklyn has the second-highest rental prices, while the Bronx appears as the most affordable one.**"
      ],
      "metadata": {
        "id": "DpNIfZDRICSX"
      }
    },
    {
      "cell_type": "markdown",
      "source": [
        "As we can Know that We have prominently 3 different room types i.e 'Private room', 'Shared room' and Entire home/apt. so we will calucalte the avrg price for each room type "
      ],
      "metadata": {
        "id": "1-Li52kOlCrL"
      }
    },
    {
      "cell_type": "markdown",
      "source": [
        "##### 1. Why did you pick the specific chart?"
      ],
      "metadata": {
        "id": "K5QZ13OEpz2H"
      }
    },
    {
      "cell_type": "markdown",
      "source": [],
      "metadata": {
        "id": "XESiWehPqBRc"
      }
    },
    {
      "cell_type": "markdown",
      "source": [
        "##### 2. What is/are the insight(s) found from the chart?"
      ],
      "metadata": {
        "id": "lQ7QKXXCp7Bj"
      }
    },
    {
      "cell_type": "markdown",
      "source": [],
      "metadata": {
        "id": "C_j1G7yiqdRP"
      }
    },
    {
      "cell_type": "markdown",
      "source": [
        "##### 3. Will the gained insights help creating a positive business impact? \n",
        "Are there any insights that lead to negative growth? Justify with specific reason."
      ],
      "metadata": {
        "id": "448CDAPjqfQr"
      }
    },
    {
      "cell_type": "markdown",
      "source": [],
      "metadata": {
        "id": "3cspy4FjqxJW"
      }
    },
    {
      "cell_type": "markdown",
      "source": [
        "###**Bivariate Analysis**"
      ],
      "metadata": {
        "id": "IXMXMV7t4ks1"
      }
    },
    {
      "cell_type": "markdown",
      "source": [
        "#### Chart - 8 Analyzing the number of reviews and room availability with respect to price"
      ],
      "metadata": {
        "id": "bamQiAODYuh1"
      }
    },
    {
      "cell_type": "code",
      "source": [
        "#Chart - 8 \n",
        "sns.relplot(x=df.number_of_reviews, y=df.price, hue=df.neighbourhood_group, col=df.neighbourhood_group, palette=\"flare\")\n",
        "sns.set(rc={'figure.figsize':(10,6)})\n",
        "sns.set(style=\"white\")"
      ],
      "metadata": {
        "id": "TIJwrbroYuh3"
      },
      "execution_count": null,
      "outputs": []
    },
    {
      "cell_type": "code",
      "source": [
        "sns.relplot(x=df.number_of_reviews, y=df.price, hue=df.neighbourhood_group, col=df.neighbourhood_group, palette=\"flare\")\n",
        "sns.set(rc={'figure.figsize':(10,6)})\n",
        "plt.ylim(0,300)\n",
        "sns.set(style=\"white\")"
      ],
      "metadata": {
        "id": "Eb8kHSWLUi2d"
      },
      "execution_count": null,
      "outputs": []
    },
    {
      "cell_type": "code",
      "source": [
        "sns.relplot(x=df.availability_365, y=df.price, hue=df.room_type, palette=\"husl\")\n",
        "sns.set(rc={'figure.figsize':(10,6)})\n",
        "sns.set(style=\"white\")"
      ],
      "metadata": {
        "id": "4VVt24dyUlF-"
      },
      "execution_count": null,
      "outputs": []
    },
    {
      "cell_type": "markdown",
      "source": [
        "##### 1. Why did you pick the specific chart?"
      ],
      "metadata": {
        "id": "QHF8YVU7Yuh3"
      }
    },
    {
      "cell_type": "markdown",
      "source": [
        "A stacked bar graph is one particular type of bar graph that can give us a great deal of information. In this graph, for instance, the share of each form of lodging is displayed along with the type of accommodations offered by Airbnb in various areas of New York City. For instance, room rentals are more common in the Bronx than complete houses or flats in Manhattan. Manhattan has the most shared rooms, however compared to other types of lodging, this type is the least prevalent there. Renting entire apartments or rooms, which is not the case in other sections of New York, is much less popular than renting private rooms in the Bronx."
      ],
      "metadata": {
        "id": "dcxuIMRPYuh3"
      }
    },
    {
      "cell_type": "markdown",
      "source": [
        "##### 2. What is/are the insight(s) found from the chart?"
      ],
      "metadata": {
        "id": "GwzvFGzlYuh3"
      }
    },
    {
      "cell_type": "markdown",
      "source": [
        "1. From the first graph,  we can see a negative relationship between price and the number of reviews. There are more reviews for properties with lower prices since they are booked more frequently. \n",
        "2. According to the second graph, the price of properties does not vary much in relation to their availability."
      ],
      "metadata": {
        "id": "uyqkiB8YYuh3"
      }
    },
    {
      "cell_type": "markdown",
      "source": [
        "##### 3. Will the gained insights help creating a positive business impact? \n",
        "Are there any insights that lead to negative growth? Justify with specific reason."
      ],
      "metadata": {
        "id": "qYpmQ266Yuh3"
      }
    },
    {
      "cell_type": "markdown",
      "source": [
        "We can see a negative relationship between price and the number of reviews.\n",
        "There are more reviews for properties with lower price since they are booked frequently "
      ],
      "metadata": {
        "id": "_WtzZ_hCYuh4"
      }
    },
    {
      "cell_type": "markdown",
      "source": [
        "#### Chart - 9 which neighbourhood has got maximum number of reviews. "
      ],
      "metadata": {
        "id": "HIARGkNQGF8g"
      }
    },
    {
      "cell_type": "code",
      "source": [
        "# Finding which neighbourhood has got maximum number of reviews. \n",
        "areas_reviews = df.groupby(['neighbourhood_group'])['number_of_reviews'].max().reset_index().sort_values(by = 'number_of_reviews', ascending = False)\n",
        "areas_reviews"
      ],
      "metadata": {
        "id": "1VGqUGuuGIrW"
      },
      "execution_count": null,
      "outputs": []
    },
    {
      "cell_type": "code",
      "source": [
        "#Chart - 9\n",
        "#Visualising the number of reviews in each neighbourhood group through pie chart\n",
        "plt.rcParams['figure.figsize'] = (13,8)\n",
        "reviews = areas_reviews['number_of_reviews']\n",
        "plt.pie(reviews, labels = areas_reviews['neighbourhood_group'], autopct ='%0.2f%%', startangle =90, explode = [0.1,0.1,0.1,0.1,0.1], shadow = True )\n",
        "plt.title('Number of reviews in each neighbourhood group', {'fontsize': 18})\n",
        "plt.show()"
      ],
      "metadata": {
        "id": "idNU7332GiLW"
      },
      "execution_count": null,
      "outputs": []
    },
    {
      "cell_type": "markdown",
      "source": [
        "##### 1. Why did you pick the specific chart?"
      ],
      "metadata": {
        "id": "0UcpEDqnI1S4"
      }
    },
    {
      "cell_type": "markdown",
      "source": [
        "pie chat shows the percentage of review each neighbourhood has."
      ],
      "metadata": {
        "id": "ZhGWZQCiI2JH"
      }
    },
    {
      "cell_type": "markdown",
      "source": [
        "##### 2. What is/are the insight(s) found from the chart?"
      ],
      "metadata": {
        "id": "q5PDwYU0JYQ_"
      }
    },
    {
      "cell_type": "markdown",
      "source": [
        "Considering the reviews we can understand which place is mostly visited or rented by uses."
      ],
      "metadata": {
        "id": "GllvStJPJZFf"
      }
    },
    {
      "cell_type": "markdown",
      "source": [
        "#### Chart -10 Room Availability by neighbourhood_group"
      ],
      "metadata": {
        "id": "KSlN3yHqYklG"
      }
    },
    {
      "cell_type": "code",
      "source": [
        "df.groupby(['neighbourhood_group'])['availability_365'].mean()"
      ],
      "metadata": {
        "id": "oenvdppBKHpA"
      },
      "execution_count": null,
      "outputs": []
    },
    {
      "cell_type": "code",
      "source": [
        "# Chart - 10 visualization code\n",
        "lat = sns.scatterplot(x=df.longitude, y=df.latitude, hue=df.availability_365, palette=\"husl\")\n",
        "lat.set_title('Visualizing Availability by neighbourhood_group', weight='bold', fontsize = 16)\n",
        "lat.set_xlabel('Longitude')\n",
        "lat.set_ylabel('Latitude')\n",
        "lat.legend(loc='upper left', title='availability_365')"
      ],
      "metadata": {
        "id": "3CnZhOsHLjmd"
      },
      "execution_count": null,
      "outputs": []
    },
    {
      "cell_type": "markdown",
      "source": [
        "##### 1. Why did you pick the specific chart?"
      ],
      "metadata": {
        "id": "t6dVpIINYklI"
      }
    },
    {
      "cell_type": "markdown",
      "source": [
        "This charts shows us the distribution of properties with count in each neighbourhood"
      ],
      "metadata": {
        "id": "5aaW0BYyYklI"
      }
    },
    {
      "cell_type": "markdown",
      "source": [
        "##### 2. What is/are the insight(s) found from the chart?"
      ],
      "metadata": {
        "id": "ijmpgYnKYklI"
      }
    },
    {
      "cell_type": "markdown",
      "source": [
        "We can see here, that most of the properties fall in the Brooklyn or Manhattan neighbourhood group, while there very few properties in Bronx and Staten Island.\n"
      ],
      "metadata": {
        "id": "PSx9atu2YklI"
      }
    },
    {
      "cell_type": "markdown",
      "source": [
        "##### 3. Will the gained insights help creating a positive business impact? \n",
        "Are there any insights that lead to negative growth? Justify with specific reason."
      ],
      "metadata": {
        "id": "-JiQyfWJYklI"
      }
    },
    {
      "cell_type": "markdown",
      "source": [
        "Answer Here"
      ],
      "metadata": {
        "id": "BcBbebzrYklV"
      }
    },
    {
      "cell_type": "markdown",
      "source": [
        "#### Chart - 11 What is the average preferred price by customers according to the location?"
      ],
      "metadata": {
        "id": "U2RJ9gkRphqQ"
      }
    },
    {
      "cell_type": "code",
      "source": [
        "# Chart - 11 visualization code\n",
        "avg_preffered_price_df = df.groupby(['neighbourhood_group','room_type'], as_index=False)['price'].mean()\n",
        "avg_preffered_price_df.rename(columns={'neighbourhood_group':'Location','price':'Average_Price_Paid'})"
      ],
      "metadata": {
        "id": "7v_ESjsspbW7"
      },
      "execution_count": null,
      "outputs": []
    },
    {
      "cell_type": "code",
      "source": [
        "#Unstack the group by information for plot the graph\n",
        "avg_preffered_price_df = df.groupby(['neighbourhood_group','room_type'])['price'].mean().unstack()\n",
        "avg_preffered_price_df"
      ],
      "metadata": {
        "id": "CL4G_0opk-fI"
      },
      "execution_count": null,
      "outputs": []
    },
    {
      "cell_type": "code",
      "source": [
        "# Chart - 10 visualization code\n",
        "#Graph of average price of property according to location\n",
        "avg_preffered_price_df.plot.bar()"
      ],
      "metadata": {
        "id": "4ZtUzqV3l4O1"
      },
      "execution_count": null,
      "outputs": []
    },
    {
      "cell_type": "markdown",
      "source": [
        "##### 1. Why did you pick the specific chart?"
      ],
      "metadata": {
        "id": "TIgVmdy-Mfvs"
      }
    },
    {
      "cell_type": "markdown",
      "source": [
        "Bar chart is clearly showing the distribution of price acoording to room type in diffrent locations"
      ],
      "metadata": {
        "id": "lRO7xucuMh7E"
      }
    },
    {
      "cell_type": "markdown",
      "source": [
        "##### 2. What is/are the insight(s) found from the chart?"
      ],
      "metadata": {
        "id": "DO6zwEXJMiSl"
      }
    },
    {
      "cell_type": "markdown",
      "source": [
        "1.   For 'Entire Home\" the price is high and for \"shared rooms\" price is low\n",
        "2.   Bronx has the cheap price for Entire room, Where as Manhattan has highest \n",
        "3.   Manhantta is expensive among all the locations for all diffrent rooms \n",
        "\n"
      ],
      "metadata": {
        "id": "hAHdQi9qMkPV"
      }
    },
    {
      "cell_type": "markdown",
      "source": [
        "##### 3. Will the gained insights help creating a positive business impact? \n",
        "Are there any insights that lead to negative growth? Justify with specific reason."
      ],
      "metadata": {
        "id": "yUVQK3EzMldn"
      }
    },
    {
      "cell_type": "markdown",
      "source": [
        "Yes\n",
        "Property listen in Manhattan are giving more profit compare to others"
      ],
      "metadata": {
        "id": "kqEcZBI5Mm81"
      }
    },
    {
      "cell_type": "markdown",
      "source": [
        "#### Chart - 12 Find total no. nights spend per location"
      ],
      "metadata": {
        "id": "SNE381EvKhzo"
      }
    },
    {
      "cell_type": "code",
      "source": [
        "#  find the maximum(minimum nights) spending by customer across different neighourhood group\n",
        "total_nights=df.groupby('neighbourhood_group')['minimum_nights'].sum().reset_index()\n",
        "final_nights=total_nights.sort_values('minimum_nights',ascending=False)\n",
        "final_nights.head()"
      ],
      "metadata": {
        "id": "KzwfOw82KtMQ"
      },
      "execution_count": null,
      "outputs": []
    },
    {
      "cell_type": "code",
      "source": [
        "# visualization of total no. nights spend per location using seaborn\n",
        "sns.set(rc={'figure.figsize':(10,5)})\n",
        "sns.set_style('white')\n",
        "abc= sns.barplot(x='neighbourhood_group',y='minimum_nights',data = final_nights)\n",
        "abc.set_title('find total no. nights spend per location')\n",
        "abc.set_ylabel('minimum night')\n",
        "abc.set_xlabel('neighbourhood group')\n",
        "abc.set_xticklabels(abc.get_xticklabels(),rotation = 45,size='15')"
      ],
      "metadata": {
        "id": "PafycMjOKuin"
      },
      "execution_count": null,
      "outputs": []
    },
    {
      "cell_type": "markdown",
      "source": [
        "##### 1. Why did you pick the specific chart?"
      ],
      "metadata": {
        "id": "FCbSqXXcL0m-"
      }
    },
    {
      "cell_type": "markdown",
      "source": [
        "Bar chart is the Simplest way to show the count of night spent in diffrent locations"
      ],
      "metadata": {
        "id": "stjP_Xn1MPrl"
      }
    },
    {
      "cell_type": "markdown",
      "source": [
        "##### 2. What is/are the insight(s) found from the chart?"
      ],
      "metadata": {
        "id": "XxlzgpviMVG1"
      }
    },
    {
      "cell_type": "markdown",
      "source": [
        "rooms in manhattan are the busiest rooms as most of the night spend are in manhattan"
      ],
      "metadata": {
        "id": "WrLDNUKLMYL0"
      }
    },
    {
      "cell_type": "markdown",
      "source": [
        "##### 3. Will the gained insights help creating a positive business impact? \n",
        "Are there any insights that lead to negative growth? Justify with specific reason."
      ],
      "metadata": {
        "id": "f2VkkCkSMS6B"
      }
    },
    {
      "cell_type": "markdown",
      "source": [
        "The diffrence is huge, between Brooklyn and Manhattan, as Manhattan has been described as the cultural, financial, media, and entertainment capital of the world."
      ],
      "metadata": {
        "id": "3ERCmmB1MUZi"
      }
    },
    {
      "cell_type": "markdown",
      "source": [
        "### **Multivariate Analysis**"
      ],
      "metadata": {
        "id": "4ucGCMcDaqQy"
      }
    },
    {
      "cell_type": "markdown",
      "source": [
        "#### Chart - 13 - Correlation Heatmap"
      ],
      "metadata": {
        "id": "NC_X3p0fY2L0"
      }
    },
    {
      "cell_type": "code",
      "source": [
        "# Correlation Heatmap visualization code  \n",
        "# plotting the heatmap\n",
        "plt.figure(figsize = (8,5))\n",
        "sns.heatmap(df.corr(), annot=True)\n",
        "# displaying the plotted heatmap\n",
        "plt.show()"
      ],
      "metadata": {
        "id": "xyC9zolEZNRQ"
      },
      "execution_count": null,
      "outputs": []
    },
    {
      "cell_type": "markdown",
      "source": [
        "##### 1. Why did you pick the specific chart?"
      ],
      "metadata": {
        "id": "UV0SzAkaZNRQ"
      }
    },
    {
      "cell_type": "markdown",
      "source": [
        "Using the color variation, we can depict the\n",
        "correlation between the variables on both axes.\n",
        "On either side of the axis, darker colors indicate\n",
        "a negative correlation between both variables."
      ],
      "metadata": {
        "id": "DVPuT8LYZNRQ"
      }
    },
    {
      "cell_type": "markdown",
      "source": [
        "##### 2. What is/are the insight(s) found from the chart?"
      ],
      "metadata": {
        "id": "YPEH6qLeZNRQ"
      }
    },
    {
      "cell_type": "markdown",
      "source": [
        "1. Using the color variation, we can depict the correlation between the variables on both axes. On either side of the axis, darker colors indicate a negative correlation between both variables.\n",
        "2. There is a negative correlation between 'price' and 'longitude' since the higher prices are usually found in busier places.\n",
        "3. In addition, we can observe a negative correlation between 'price' and 'number_of_reviews', which leads to the conclusion that properties with lower prices are more likely to be booked and have more reviews."
      ],
      "metadata": {
        "id": "bfSqtnDqZNRR"
      }
    },
    {
      "cell_type": "markdown",
      "source": [
        "#### Chart - 14 - Pair Plot "
      ],
      "metadata": {
        "id": "q29F0dvdveiT"
      }
    },
    {
      "cell_type": "code",
      "source": [
        "# # Pair Plot visualization code\n",
        "sns.pairplot(df)"
      ],
      "metadata": {
        "id": "n858CJMJahXg"
      },
      "execution_count": null,
      "outputs": []
    },
    {
      "cell_type": "markdown",
      "source": [
        "##### 1. Why did you pick the specific chart?"
      ],
      "metadata": {
        "id": "EXh0U9oCveiU"
      }
    },
    {
      "cell_type": "markdown",
      "source": [
        "Answer Here."
      ],
      "metadata": {
        "id": "eMmPjTByveiU"
      }
    },
    {
      "cell_type": "markdown",
      "source": [
        "##### 2. What is/are the insight(s) found from the chart?"
      ],
      "metadata": {
        "id": "22aHeOlLveiV"
      }
    },
    {
      "cell_type": "markdown",
      "source": [
        "Answer Here"
      ],
      "metadata": {
        "id": "uPQ8RGwHveiV"
      }
    },
    {
      "cell_type": "markdown",
      "source": [
        "## **5. Solution to Business Objective**"
      ],
      "metadata": {
        "id": "JcMwzZxoAimU"
      }
    },
    {
      "cell_type": "markdown",
      "source": [
        "#### What do you suggest the client to achieve Business Objective ? \n",
        "Explain Briefly."
      ],
      "metadata": {
        "id": "8G2x9gOozGDZ"
      }
    },
    {
      "cell_type": "markdown",
      "source": [
        "Answer Here."
      ],
      "metadata": {
        "id": "pASKb0qOza21"
      }
    },
    {
      "cell_type": "markdown",
      "source": [
        "# **Conclusion**"
      ],
      "metadata": {
        "id": "gCX9965dhzqZ"
      }
    },
    {
      "cell_type": "markdown",
      "source": [
        "1. The percentage distribution of three unique room types was as follows: \n",
        "  *   Entire home/apt - 52%\n",
        "  *   Private room - 45.7%\n",
        "  *   Shared room - 2.4%\n",
        "2. Detailed Distribution of rooms\n",
        "  * Majority of Entire homes are in Manhattan followed by Brooklyn \n",
        "  * Talking about private rooms , Brooklyn has Highest number of Private rooms followed by Manhattan and Queens\n",
        "  * We can hardly see shared rooms in airbnb dataset\n",
        "3. We have one host named Sonder(NYC) who has more then 300 property listed in airbnb in Manhattan \n",
        "4.  Williamsburg and Bedford-Stuyvesant were found to be more popular neighbourhoods in Brooklyn borough\n",
        "5. A statistical analysis shows that Manhattan has the most expensive price range with an average of 140 dollars followed by the Brooklyn with an average of  90 dollars. \n",
        "6. Bronx provides the cheapest accommodation among all.\n",
        "7. Brooklyn has more traffic than Manhattan which might be due to differences in the price distribution.\n",
        "8. It is evident that hosts are using simple and location-oriented keywords to \n",
        "differentiate their listings.\n",
        "9. Several mentions of “private rooms” indicate the popularity of this room type in the city\n"
      ],
      "metadata": {
        "id": "Fjb1IsQkh3yE"
      }
    },
    {
      "cell_type": "markdown",
      "source": [
        "### ***Hurrah! You have successfully completed your EDA Capstone Project !!!***"
      ],
      "metadata": {
        "id": "gIfDvo9L0UH2"
      }
    },
    {
      "cell_type": "code",
      "source": [],
      "metadata": {
        "id": "nEsbiRJ-K9-j"
      },
      "execution_count": null,
      "outputs": []
    }
  ]
}